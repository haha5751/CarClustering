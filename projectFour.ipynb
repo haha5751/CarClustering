{
 "cells": [
  {
   "cell_type": "code",
   "execution_count": 111,
   "metadata": {},
   "outputs": [],
   "source": [
    "import matplotlib.pyplot as plt\n",
    "import numpy as np\n",
    "import pandas as pd\n",
    "import random as rd\n",
    "import math as mt"
   ]
  },
  {
   "cell_type": "code",
   "execution_count": 112,
   "metadata": {},
   "outputs": [],
   "source": [
    "# load data\n",
    "\n",
    "df = pd.read_csv(\"CARS_1.csv\")"
   ]
  },
  {
   "cell_type": "code",
   "execution_count": 113,
   "metadata": {},
   "outputs": [],
   "source": [
    "# clean and normalize data\n",
    "\n",
    "def normalize(df, columnName):\n",
    "    maxVal = df[columnName].max()\n",
    "    df[columnName] = df[columnName].divide(maxVal)\n",
    "    \n",
    "def mapStrToInt(df, columnName):\n",
    "    uniqueStrs = df[columnName].unique()\n",
    "    strToIntDict = dict([(y, x + 1) for x, y in enumerate(uniqueStrs)])\n",
    "    for index, row in df.iterrows():\n",
    "        df.loc[index, columnName] = strToIntDict[row[columnName]]\n",
    "    \n",
    "df.drop(columns = [\"reviews_count\", \"rating\", \"starting_price\", \"ending_price\"], inplace = True)\n",
    "df.dropna(inplace = True)\n",
    "df.reset_index(drop = True, inplace = True)\n",
    "strColumns = [\"fuel_type\", \"transmission_type\", \"body_type\"]\n",
    "\n",
    "for columnName in strColumns:\n",
    "    if columnName != \"car_name\":\n",
    "        mapStrToInt(df, columnName)\n",
    "        df = df.astype({columnName:'int'})\n",
    "    \n",
    "\n",
    "for columnName in df.columns:\n",
    "    if columnName != \"car_name\":\n",
    "        normalize(df, columnName)\n",
    "        "
   ]
  },
  {
   "cell_type": "code",
   "execution_count": 114,
   "metadata": {},
   "outputs": [
    {
     "name": "stdout",
     "output_type": "stream",
     "text": [
      "0.6244657224827654\n"
     ]
    },
    {
     "data": {
      "text/plain": [
       "0"
      ]
     },
     "execution_count": 114,
     "metadata": {},
     "output_type": "execute_result"
    }
   ],
   "source": [
    "# k means algorithm\n",
    "\n",
    "def euclidDistance(xFTyp, xEngDisp, xNoCyl, xSeatCap, xTranTyp, xFTnkCap, xBType, xTrqNM, xTrqRPM, xPwrBHP, xPwrRP,\n",
    "                   yFTyp, yEngDisp, yNoCyl, ySeatCap, yTranTyp, yFTnkCap, yBType, yTrqNM, yTrqRPM, yPwrBHP, yPwrRP):\n",
    "    \n",
    "    return np.sqrt((xFTyp - yFTyp) ** 2 + (xEngDisp - yEngDisp) ** 2 + (xNoCyl - yNoCyl) ** 2 + (xSeatCap - ySeatCap) ** 2 + (xTranTyp - yTranTyp) ** 2 +\n",
    "                   (xFTnkCap - yFTnkCap) ** 2 + (xBType - yBType) ** 2 + (xTrqNM - yTrqNM) ** 2 + (xTrqRPM - yTrqRPM) ** 2 + (xPwrBHP - yPwrBHP) ** 2 + \n",
    "                   (xPwrRP - yPwrRP) ** 2)\n",
    "    \n",
    "def kmeans(df, k, tol):\n",
    "    reconError = 100\n",
    "    oldError = 0\n",
    "    differences = [0] * k\n",
    "    totalDifferences = [0] * len(df)\n",
    "    centroids = [0] * k\n",
    "    clusters = [-1] * len(df)\n",
    "    randomNums = rd.sample(range(0, len(df)), k)\n",
    "    \n",
    "    for i, num in enumerate(randomNums):\n",
    "        centroids[i] = df.iloc[num]\n",
    "    \n",
    "    for index in range(len(df)):\n",
    "        for j in range(k):\n",
    "            differences[j] = euclidDistance(df.iloc[index][\"fuel_type\"], df.iloc[index][\"engine_displacement\"], df.iloc[index][\"no_cylinder\"], df.iloc[index][\"seating_capacity\"],\n",
    "                                            df.iloc[index][\"transmission_type\"], df.iloc[index][\"fuel_tank_capacity\"], df.iloc[index][\"body_type\"], df.iloc[index][\"max_torque_nm\"],\n",
    "                                            df.iloc[index][\"max_torque_rpm\"], df.iloc[index][\"max_power_bhp\"], df.iloc[index][\"max_power_rp\"], \n",
    "                                            centroids[j][\"fuel_type\"], centroids[j][\"engine_displacement\"], centroids[j][\"no_cylinder\"], centroids[j][\"seating_capacity\"],\n",
    "                                            centroids[j][\"transmission_type\"], centroids[j][\"fuel_tank_capacity\"], centroids[j][\"body_type\"], centroids[j][\"max_torque_nm\"],\n",
    "                                            centroids[j][\"max_torque_rpm\"], centroids[j][\"max_power_bhp\"], centroids[j][\"max_power_rp\"])\n",
    "        totalDifferences[index] = min(differences)\n",
    "        clusters[index] = differences.index(totalDifferences[index]) # get the index associated with the lowest euclid distance, this index is the centroid this node is assigned to\n",
    "    oldError = (sum(totalDifferences)) / len(totalDifferences) # this code is confirmed working\n",
    "\n",
    "    while reconError > tol:\n",
    "        centroids = np.zeros((11, ) * k)\n",
    "        differences = [0] * k\n",
    "        totalDifferences = [0] * len(df)\n",
    "        for a in range(k):\n",
    "            averageFTyp = []\n",
    "            averageEngDisp = []\n",
    "            averageNoCyl = []\n",
    "            averageSeatCap = []\n",
    "            averageTranTyp = []\n",
    "            averageFTypCap = []\n",
    "            averageBTyp = []\n",
    "            averageTrqNM = []\n",
    "            averageTrqRPM = []\n",
    "            averagePwrBHP = []\n",
    "            averagePwrRP = []\n",
    "            for b in range(len(df)):\n",
    "                if clusters[b] == a:\n",
    "                    averageFTyp.append(df.iloc[b][\"fuel_type\"])\n",
    "                    averageEngDisp.append(df.iloc[b][\"engine_displacement\"])\n",
    "                    averageNoCyl.append(df.iloc[b][\"no_cylinder\"])\n",
    "                    averageSeatCap.append(df.iloc[b][\"seating_capacity\"])\n",
    "                    averageTranTyp.append(df.iloc[b][\"transmission_type\"])\n",
    "                    averageFTypCap.append(df.iloc[b][\"fuel_tank_capacity\"])\n",
    "                    averageBTyp.append(df.iloc[b][\"body_type\"])\n",
    "                    averageTrqNM.append(df.iloc[b][\"max_torque_nm\"])\n",
    "                    averageTrqRPM.append(df.iloc[b][\"max_torque_rpm\"])\n",
    "                    averagePwrBHP.append(df.iloc[b][\"max_power_bhp\"])\n",
    "                    averagePwrRP.append(df.iloc[b][\"max_power_rp\"])\n",
    "            centroids[a] = [(sum(averageFTyp) / len(averageFTyp)), (sum(averageEngDisp) / len(averageEngDisp)), (sum(averageNoCyl) / len(averageNoCyl)), (sum(averageSeatCap) / len(averageSeatCap)),\n",
    "                            (sum(averageTranTyp) / len(averageTranTyp)), (sum(averageFTypCap) / len(averageFTypCap)), (sum(averageBTyp) / len(averageBTyp)), (sum(averageTrqNM) / len(averageTrqNM)), \n",
    "                            (sum(averageTrqRPM) / len(averageTrqRPM)), (sum(averagePwrBHP) / len(averagePwrBHP)), (sum(averagePwrRP) / len(averagePwrRP))]\n"
   ]
  }
 ],
 "metadata": {
  "kernelspec": {
   "display_name": "base",
   "language": "python",
   "name": "python3"
  },
  "language_info": {
   "codemirror_mode": {
    "name": "ipython",
    "version": 3
   },
   "file_extension": ".py",
   "mimetype": "text/x-python",
   "name": "python",
   "nbconvert_exporter": "python",
   "pygments_lexer": "ipython3",
   "version": "3.10.9"
  },
  "orig_nbformat": 4
 },
 "nbformat": 4,
 "nbformat_minor": 2
}
