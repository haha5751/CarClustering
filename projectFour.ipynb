{
 "cells": [
  {
   "cell_type": "code",
   "execution_count": 1,
   "metadata": {},
   "outputs": [],
   "source": [
    "import matplotlib.pyplot as plt\n",
    "import numpy as np\n",
    "import pandas as pd\n",
    "import random as rd\n",
    "import math as mt"
   ]
  },
  {
   "cell_type": "code",
   "execution_count": 2,
   "metadata": {},
   "outputs": [],
   "source": [
    "# load data\n",
    "\n",
    "df = pd.read_csv(\"CARS_1.csv\")"
   ]
  },
  {
   "cell_type": "code",
   "execution_count": 3,
   "metadata": {},
   "outputs": [],
   "source": [
    "# clean and normalize data\n",
    "\n",
    "def normalize(df, columnName):\n",
    "    maxVal = df[columnName].max()\n",
    "    df[columnName] = df[columnName].divide(maxVal)\n",
    "    \n",
    "def mapStrToInt(df, columnName):\n",
    "    uniqueStrs = df[columnName].unique()\n",
    "    strToIntDict = dict([(y, x + 1) for x, y in enumerate(uniqueStrs)])\n",
    "    for index, row in df.iterrows():\n",
    "        df.loc[index, columnName] = strToIntDict[row[columnName]]\n",
    "    \n",
    "df.drop(columns = [\"reviews_count\", \"rating\", \"starting_price\", \"ending_price\"], inplace = True)\n",
    "df.dropna(inplace = True)\n",
    "df.reset_index(drop = True, inplace = True)\n",
    "strColumns = [\"fuel_type\", \"transmission_type\", \"body_type\"]\n",
    "\n",
    "for columnName in strColumns:\n",
    "    if columnName != \"car_name\":\n",
    "        mapStrToInt(df, columnName)\n",
    "        df = df.astype({columnName:'int'})\n",
    "    \n",
    "\n",
    "for columnName in df.columns:\n",
    "    if columnName != \"car_name\":\n",
    "        normalize(df, columnName)\n",
    "        "
   ]
  },
  {
   "cell_type": "code",
   "execution_count": 4,
   "metadata": {},
   "outputs": [
    {
     "name": "stdout",
     "output_type": "stream",
     "text": [
      "0.6631676392067062\n"
     ]
    },
    {
     "data": {
      "text/plain": [
       "0"
      ]
     },
     "execution_count": 4,
     "metadata": {},
     "output_type": "execute_result"
    }
   ],
   "source": [
    "# k means algorithm\n",
    "\n",
    "def euclidDistance(xFTyp, xEngDisp, xNoCyl, xSeatCap, xTranTyp, xFTnkCap, xBType, xTrqNM, xTrqRPM, xPwrBHP, xPwrRP,\n",
    "                   yFTyp, yEngDisp, yNoCyl, ySeatCap, yTranTyp, yFTnkCap, yBType, yTrqNM, yTrqRPM, yPwrBHP, yPwrRP):\n",
    "    \n",
    "    return np.sqrt((xFTyp - yFTyp) ** 2 + (xEngDisp - yEngDisp) ** 2 + (xNoCyl - yNoCyl) ** 2 + (xSeatCap - ySeatCap) ** 2 + (xTranTyp - yTranTyp) ** 2 +\n",
    "                   (xFTnkCap - yFTnkCap) ** 2 + (xBType - yBType) ** 2 + (xTrqNM - yTrqNM) ** 2 + (xTrqRPM - yTrqRPM) ** 2 + (xPwrBHP - yPwrBHP) ** 2 + \n",
    "                   (xPwrRP - yPwrRP) ** 2)\n",
    "    \n",
    "def kmeans(df, k, tol):\n",
    "    reconError = 100\n",
    "    oldError = 0\n",
    "    differences = [0] * k\n",
    "    totalDifferences = 0\n",
    "    centroids = [0] * k\n",
    "    clusters = [-1] * len(df)\n",
    "    randomNums = rd.sample(range(0, len(df)), k)\n",
    "    \n",
    "    for i, num in enumerate(randomNums):\n",
    "        centroids[i] = df.iloc[num]\n",
    "    \n",
    "    for index in range(len(df)):\n",
    "        for j in range(k):\n",
    "            differences[j] = euclidDistance(df.iloc[index][\"fuel_type\"], df.iloc[index][\"engine_displacement\"], df.iloc[index][\"no_cylinder\"], df.iloc[index][\"seating_capacity\"],\n",
    "                                            df.iloc[index][\"transmission_type\"], df.iloc[index][\"fuel_tank_capacity\"], df.iloc[index][\"body_type\"], df.iloc[index][\"max_torque_nm\"],\n",
    "                                            df.iloc[index][\"max_torque_rpm\"], df.iloc[index][\"max_power_bhp\"], df.iloc[index][\"max_power_rp\"], \n",
    "                                            centroids[j][\"fuel_type\"], centroids[j][\"engine_displacement\"], centroids[j][\"no_cylinder\"], centroids[j][\"seating_capacity\"],\n",
    "                                            centroids[j][\"transmission_type\"], centroids[j][\"fuel_tank_capacity\"], centroids[j][\"body_type\"], centroids[j][\"max_torque_nm\"],\n",
    "                                            centroids[j][\"max_torque_rpm\"], centroids[j][\"max_power_bhp\"], centroids[j][\"max_power_rp\"])\n",
    "        totalDifferences += min(differences)\n",
    "        clusters[index] = differences.index(min(differences)) # get the index associated with the lowest euclid distance, this index is the centroid this node is assigned to\n",
    "    oldError = (totalDifferences) / len(df) # this code is confirmed working\n",
    "\n",
    "    # while reconError > tol:\n",
    "    #     centroids = np.zeros((11, ) * k)\n",
    "    #     differences = [0] * k\n",
    "    #     totalDifferences = [0] * len(df)\n",
    "    #     for a in range(k):\n",
    "    #         averageFTyp = 0\n",
    "    #         averageEngDisp = 0\n",
    "    #         averageNoCyl = 0\n",
    "    #         averageSeatCap = 0\n",
    "    #         averageTranTyp = 0\n",
    "    #         averageFTypCap = 0\n",
    "    #         averageBTyp = 0\n",
    "    #         averageTrqNM = 0\n",
    "    #         averageTrqRPM = 0\n",
    "    #         averagePwrBHP = 0\n",
    "    #         averagePwrRP = 0\n",
    "    #         length = 0\n",
    "    #         for b in range(len(df)):\n",
    "    #             if clusters[b] == a:\n",
    "    #                 averageFTyp += df.iloc[b][\"fuel_type\"]\n",
    "    #                 averageEngDisp += df.iloc[b][\"engine_displacement\"]\n",
    "    #                 averageNoCyl += df.iloc[b][\"no_cylinder\"]\n",
    "    #                 averageSeatCap += df.iloc[b][\"seating_capacity\"]\n",
    "    #                 averageTranTyp += df.iloc[b][\"transmission_type\"]\n",
    "    #                 averageFTypCap += df.iloc[b][\"fuel_tank_capacity\"]\n",
    "    #                 averageBTyp += df.iloc[b][\"body_type\"]\n",
    "    #                 averageTrqNM += df.iloc[b][\"max_torque_nm\"]\n",
    "    #                 averageTrqRPM += df.iloc[b][\"max_torque_rpm\"]\n",
    "    #                 averagePwrBHP += df.iloc[b][\"max_power_bhp\"]\n",
    "    #                 averagePwrRP += df.iloc[b][\"max_power_rp\"]\n",
    "    #                 length += 1\n",
    "    #         centroids[a] = [(averageFTyp / length), (averageEngDisp) / length), (averageNoCyl / length), (averageSeatCap) / length), (averageTranTyp / length), (averageFTypCap) / length), (averageBTyp / length), (averageTrqNM) / length), (averageTrqRPM / length), (averagePwrBHP) / length), (averagePwrRP / length)]\n"
   ]
  }
 ],
 "metadata": {
  "kernelspec": {
   "display_name": "base",
   "language": "python",
   "name": "python3"
  },
  "language_info": {
   "codemirror_mode": {
    "name": "ipython",
    "version": 3
   },
   "file_extension": ".py",
   "mimetype": "text/x-python",
   "name": "python",
   "nbconvert_exporter": "python",
   "pygments_lexer": "ipython3",
   "version": "3.10.9"
  },
  "orig_nbformat": 4
 },
 "nbformat": 4,
 "nbformat_minor": 2
}
