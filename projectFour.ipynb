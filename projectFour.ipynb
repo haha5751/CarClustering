{
 "cells": [
  {
   "cell_type": "code",
   "execution_count": 1,
   "metadata": {},
   "outputs": [],
   "source": [
    "import matplotlib.pyplot as plt\n",
    "import numpy as np\n",
    "import pandas as pd\n",
    "import random as rd\n",
    "import math as mt"
   ]
  },
  {
   "cell_type": "code",
   "execution_count": 2,
   "metadata": {},
   "outputs": [],
   "source": [
    "# load data\n",
    "\n",
    "df = pd.read_csv(\"CARS_1.csv\")"
   ]
  },
  {
   "cell_type": "code",
   "execution_count": 3,
   "metadata": {},
   "outputs": [],
   "source": [
    "# clean and normalize data\n",
    "\n",
    "def normalize(df, columnName):\n",
    "    maxVal = df[columnName].max()\n",
    "    df[columnName] = df[columnName].divide(maxVal)\n",
    "    \n",
    "def mapStrToInt(df, columnName):\n",
    "    uniqueStrs = df[columnName].unique()\n",
    "    strToIntDict = dict([(y, x + 1) for x, y in enumerate(uniqueStrs)])\n",
    "    for index, row in df.iterrows():\n",
    "        df.loc[index, columnName] = strToIntDict[row[columnName]]\n",
    "    \n",
    "df.drop(columns = [\"reviews_count\", \"rating\", \"starting_price\", \"ending_price\"], inplace = True)\n",
    "df.dropna(inplace = True)\n",
    "df.reset_index(drop = True, inplace = True)\n",
    "strColumns = [\"fuel_type\", \"transmission_type\", \"body_type\"]\n",
    "\n",
    "for columnName in strColumns:\n",
    "    if columnName != \"car_name\":\n",
    "        mapStrToInt(df, columnName)\n",
    "        df = df.astype({columnName:'int'})\n",
    "    \n",
    "\n",
    "for columnName in df.columns:\n",
    "    if columnName != \"car_name\":\n",
    "        normalize(df, columnName)\n",
    "        "
   ]
  },
  {
   "cell_type": "code",
   "execution_count": 4,
   "metadata": {},
   "outputs": [],
   "source": [
    "# add weights to the most variable data\n",
    "\n",
    "weights = {}\n",
    "for column in df.columns:\n",
    "    if column != \"car_name\":\n",
    "        weights[column] = df[column].std()\n",
    "sortedWeights = sorted(weights, key=weights.get, reverse=True)[:10]\n",
    "\n",
    "weight = 30\n",
    "for column in sortedWeights:\n",
    "    df[column] = df[column] * weight\n",
    "    weight -= 2.5"
   ]
  },
  {
   "cell_type": "code",
   "execution_count": 5,
   "metadata": {},
   "outputs": [],
   "source": [
    "# k means algorithm\n",
    "\n",
    "def euclidDistance(xFTyp, xEngDisp, xNoCyl, xSeatCap, xTranTyp, xFTnkCap, xBType, xTrqNM, xTrqRPM, xPwrBHP, xPwrRP,\n",
    "                   yFTyp, yEngDisp, yNoCyl, ySeatCap, yTranTyp, yFTnkCap, yBType, yTrqNM, yTrqRPM, yPwrBHP, yPwrRP):\n",
    "    \n",
    "    return np.sqrt((xFTyp - yFTyp) ** 2 + (xEngDisp - yEngDisp) ** 2 + (xNoCyl - yNoCyl) ** 2 + (xSeatCap - ySeatCap) ** 2 + (xTranTyp - yTranTyp) ** 2 +\n",
    "                   (xFTnkCap - yFTnkCap) ** 2 + (xBType - yBType) ** 2 + (xTrqNM - yTrqNM) ** 2 + (xTrqRPM - yTrqRPM) ** 2 + (xPwrBHP - yPwrBHP) ** 2 + \n",
    "                   (xPwrRP - yPwrRP) ** 2)\n",
    "    \n",
    "def kmeans(df, k, tol):\n",
    "    reconError = 100\n",
    "    oldError = 0\n",
    "    newError = 0\n",
    "    differences = [0] * k\n",
    "    totalDifferences = 0\n",
    "    centroids = [0] * k\n",
    "    clusters = [-1] * len(df)\n",
    "    randomNums = rd.sample(range(0, len(df)), k)\n",
    "    \n",
    "    for i, num in enumerate(randomNums):\n",
    "        centroids[i] = df.iloc[num]\n",
    "    \n",
    "    for index in range(len(df)):\n",
    "        for j in range(k):\n",
    "            differences[j] = euclidDistance(df.iloc[index][\"fuel_type\"], df.iloc[index][\"engine_displacement\"], df.iloc[index][\"no_cylinder\"], df.iloc[index][\"seating_capacity\"],\n",
    "                                            df.iloc[index][\"transmission_type\"], df.iloc[index][\"fuel_tank_capacity\"], df.iloc[index][\"body_type\"], df.iloc[index][\"max_torque_nm\"],\n",
    "                                            df.iloc[index][\"max_torque_rpm\"], df.iloc[index][\"max_power_bhp\"], df.iloc[index][\"max_power_rp\"], \n",
    "                                            centroids[j][\"fuel_type\"], centroids[j][\"engine_displacement\"], centroids[j][\"no_cylinder\"], centroids[j][\"seating_capacity\"],\n",
    "                                            centroids[j][\"transmission_type\"], centroids[j][\"fuel_tank_capacity\"], centroids[j][\"body_type\"], centroids[j][\"max_torque_nm\"],\n",
    "                                            centroids[j][\"max_torque_rpm\"], centroids[j][\"max_power_bhp\"], centroids[j][\"max_power_rp\"])\n",
    "        totalDifferences += min(differences)\n",
    "        clusters[index] = differences.index(min(differences)) # get the index associated with the lowest euclid distance, this index is the centroid this node is assigned to\n",
    "    oldError = totalDifferences / len(df) # this code is confirmed working\n",
    "\n",
    "    while reconError > tol:\n",
    "        centroids = np.zeros((k, 11))\n",
    "        differences = [0] * k\n",
    "        totalDifferences = 0\n",
    "        for a in range(k):\n",
    "            averageFTyp = 0\n",
    "            averageEngDisp = 0\n",
    "            averageNoCyl = 0\n",
    "            averageSeatCap = 0\n",
    "            averageTranTyp = 0\n",
    "            averageFTypCap = 0\n",
    "            averageBTyp = 0\n",
    "            averageTrqNM = 0\n",
    "            averageTrqRPM = 0\n",
    "            averagePwrBHP = 0\n",
    "            averagePwrRP = 0\n",
    "            length = 1\n",
    "            for b in range(len(df)):\n",
    "                if clusters[b] == a:\n",
    "                    averageFTyp += df.iloc[b][\"fuel_type\"]\n",
    "                    averageEngDisp += df.iloc[b][\"engine_displacement\"]\n",
    "                    averageNoCyl += df.iloc[b][\"no_cylinder\"]\n",
    "                    averageSeatCap += df.iloc[b][\"seating_capacity\"]\n",
    "                    averageTranTyp += df.iloc[b][\"transmission_type\"]\n",
    "                    averageFTypCap += df.iloc[b][\"fuel_tank_capacity\"]\n",
    "                    averageBTyp += df.iloc[b][\"body_type\"]\n",
    "                    averageTrqNM += df.iloc[b][\"max_torque_nm\"]\n",
    "                    averageTrqRPM += df.iloc[b][\"max_torque_rpm\"]\n",
    "                    averagePwrBHP += df.iloc[b][\"max_power_bhp\"]\n",
    "                    averagePwrRP += df.iloc[b][\"max_power_rp\"]\n",
    "                    length += 1\n",
    "            centroids[a] = [(averageFTyp / length), (averageEngDisp / length), (averageNoCyl / length), (averageSeatCap / length), (averageTranTyp / length), (averageFTypCap / length), (averageBTyp / length), (averageTrqNM / length), (averageTrqRPM / length), (averagePwrBHP / length), (averagePwrRP / length)]\n",
    "        for index in range(len(df)):\n",
    "            for c in range(k):\n",
    "                differences[c] = euclidDistance(df.iloc[index][\"fuel_type\"], df.iloc[index][\"engine_displacement\"], df.iloc[index][\"no_cylinder\"], df.iloc[index][\"seating_capacity\"],\n",
    "                                        df.iloc[index][\"transmission_type\"], df.iloc[index][\"fuel_tank_capacity\"], df.iloc[index][\"body_type\"], df.iloc[index][\"max_torque_nm\"],\n",
    "                                        df.iloc[index][\"max_torque_rpm\"], df.iloc[index][\"max_power_bhp\"], df.iloc[index][\"max_power_rp\"], \n",
    "                                        centroids[c][0], centroids[c][1], centroids[c][2], centroids[c][3],\n",
    "                                        centroids[c][4], centroids[c][5], centroids[c][6], centroids[c][7],\n",
    "                                        centroids[c][8], centroids[c][9], centroids[c][10])\n",
    "            totalDifferences += min(differences)\n",
    "            clusters[index] = differences.index(min(differences))\n",
    "        newError = totalDifferences / len(df)\n",
    "        reconError = abs(oldError - newError)\n",
    "        if reconError <= tol:\n",
    "            return centroids, clusters, newError\n",
    "        oldError = newError"
   ]
  },
  {
   "cell_type": "code",
   "execution_count": 6,
   "metadata": {},
   "outputs": [],
   "source": [
    "# selecting the best value for k\n",
    "\n",
    "meanErrors = [0] * 9\n",
    "for n in range(1, 10):\n",
    "    temp = float('inf')\n",
    "    for i in range(10):\n",
    "        centroids, clusters, error = kmeans(df, n, 0.05)\n",
    "        temp = min(temp, error)\n",
    "    meanErrors[n - 1] = temp"
   ]
  },
  {
   "cell_type": "code",
   "execution_count": 21,
   "metadata": {},
   "outputs": [
    {
     "data": {
      "image/png": "[encoded data removed]",
      "text/plain": [
       "<Figure size 1300x600 with 1 Axes>"
      ]
     },
     "metadata": {},
     "output_type": "display_data"
    }
   ],
   "source": [
    "plt.figure(figsize = (13, 6))\n",
    "plt.title(\"Elbow Chart for Various Values of K\")\n",
    "plt.xlabel(\"K\")\n",
    "plt.ylabel(\"Error\")\n",
    "plt.scatter((1, 2, 3, 4, 5, 6, 7, 8, 9), meanErrors)\n",
    "plt.show()\n",
    "plt.close()"
   ]
  },
  {
   "cell_type": "code",
   "execution_count": 17,
   "metadata": {},
   "outputs": [],
   "source": [
    "# best value for k is 5 according to the chart above\n",
    "k = 5\n",
    "centroids = []\n",
    "clusters = []\n",
    "error = float('inf')\n",
    "tempError = 0\n",
    "tempClusters = []\n",
    "tempCentroids = []\n",
    "\n",
    "for x in range(20):\n",
    "    tempCentroids, tempClusters, tempError = kmeans(df, k, 0.05)\n",
    "    if tempError < error:\n",
    "        centroids = tempCentroids\n",
    "        clusters = tempClusters\n",
    "        error = tempError"
   ]
  },
  {
   "cell_type": "code",
   "execution_count": 23,
   "metadata": {},
   "outputs": [
    {
     "name": "stdout",
     "output_type": "stream",
     "text": [
      "{0: 42, 1: 27, 2: 51, 3: 17, 4: 65}\n"
     ]
    }
   ],
   "source": [
    "colors = [\"\"] * len(clusters)\n",
    "for i in range(k):\n",
    "    color = \"#%06x\".upper() % rd.randint(0, 0xFFFFFF)\n",
    "    for j in range(len(clusters)):\n",
    "        if clusters[j] == i:\n",
    "            colors[j] = color\n",
    "            \n",
    "# freq = {x: 0 for x in range(k)}\n",
    "# for cluster in clusters:\n",
    "#     freq[cluster] = freq.get(cluster) + 1\n",
    "\n",
    "# plt.figure(figsize = (13, 6))\n",
    "# plt.title(\"Clusters\")\n",
    "# plt.xlabel(\"X Axis Value\")\n",
    "# plt.ylabel(\"Y Axis Value\")\n",
    "# plt.scatter([x for x in df['max_torque_nm']], [x for x in df['fuel_tank_capacity']], c = colors)\n",
    "# plt.scatter([x[1] for x in centroids], [x[2] for x in centroids], c = 'red', marker='+')\n",
    "# plt.show()\n",
    "# plt.close()"
   ]
  }
 ],
 "metadata": {
  "kernelspec": {
   "display_name": "base",
   "language": "python",
   "name": "python3"
  },
  "language_info": {
   "codemirror_mode": {
    "name": "ipython",
    "version": 3
   },
   "file_extension": ".py",
   "mimetype": "text/x-python",
   "name": "python",
   "nbconvert_exporter": "python",
   "pygments_lexer": "ipython3",
   "version": "3.10.9"
  },
  "orig_nbformat": 4
 },
 "nbformat": 4,
 "nbformat_minor": 2
}
